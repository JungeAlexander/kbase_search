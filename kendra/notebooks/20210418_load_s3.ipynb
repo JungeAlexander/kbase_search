{
 "cells": [
  {
   "cell_type": "code",
   "execution_count": null,
   "id": "interior-north",
   "metadata": {},
   "outputs": [],
   "source": [
    "import datetime\n",
    "import json\n",
    "from pathlib import Path\n",
    "import os\n",
    "import urllib.parse\n",
    "\n",
    "from dotenv import load_dotenv\n",
    "import requests"
   ]
  },
  {
   "cell_type": "code",
   "execution_count": null,
   "id": "governing-grace",
   "metadata": {},
   "outputs": [],
   "source": [
    "load_dotenv(\"../../aws.env\")"
   ]
  },
  {
   "cell_type": "code",
   "execution_count": null,
   "id": "consolidated-north",
   "metadata": {
    "pycharm": {
     "name": "#%%\n"
    }
   },
   "outputs": [],
   "source": [
    "api_url = urllib.parse.urljoin(os.environ[\"DBAPI_URL\"],\n",
    "                               os.environ[\"DBAPI_STAGE\"])"
   ]
  },
  {
   "cell_type": "code",
   "execution_count": null,
   "id": "toxic-shame",
   "metadata": {},
   "outputs": [],
   "source": [
    "output_dir = Path(\"20210418_load_s3_out\") / \"documents\"\n",
    "os.makedirs(output_dir, exist_ok=True)"
   ]
  },
  {
   "cell_type": "code",
   "execution_count": null,
   "id": "mathematical-bottom",
   "metadata": {
    "pycharm": {
     "name": "#%%\n"
    }
   },
   "outputs": [],
   "source": [
    "# request token\n",
    "login_data_dict = {\n",
    "  \"username\": os.environ[\"FIRST_USER\"],\n",
    "  \"password\": os.environ[\"FIRST_USER_PASSWORD\"]\n",
    "}\n",
    "r = requests.post(f\"{api_url}/token\", data=login_data_dict)\n",
    "a_token = r.json()[\"access_token\"]\n",
    "token_headers = {\"Authorization\": f\"Bearer {a_token}\"}"
   ]
  },
  {
   "cell_type": "code",
   "execution_count": null,
   "id": "biblical-graph",
   "metadata": {
    "pycharm": {
     "name": "#%%\n"
    }
   },
   "outputs": [],
   "source": [
    "# request episodes\n",
    "id_prefixes = [\"PythonBytes\", \"TalkPythonToMe\"]\n",
    "no_ranges = [range(217, 228), range(295, 306)]\n",
    "for id_prefix, no_range in zip(id_prefixes, no_ranges):\n",
    "    for episode_no in no_range:\n",
    "        episode_id = f\"{id_prefix}:{episode_no}\"\n",
    "        episode_url = f\"{api_url}/documents/{episode_id}\"\n",
    "        r = requests.get(episode_url, headers=token_headers)\n",
    "        if r.status_code != 200:\n",
    "            continue\n",
    "        j = r.json()\n",
    "        file_name = episode_id.replace(\":\", \"_\") + \".txt\"\n",
    "        out_file = output_dir / file_name\n",
    "        with open(out_file, \"wt\") as fout:\n",
    "            fout.write(j[\"parsed_text\"])\n",
    "            \n",
    "        # https://docs.aws.amazon.com/kendra/latest/dg/custom-attributes.html\n",
    "        # https://docs.aws.amazon.com/kendra/latest/dg/s3-metadata.html\n",
    "        metadata_dict = {\n",
    "            \"Attributes\": {\n",
    "                \"_authors\": j[\"authors\"],\n",
    "                \"_category\": [j[\"document_type\"]],\n",
    "                \"_created_at\": datetime.datetime.fromisoformat(j[\"publication_date\"]).isoformat() + \"Z\",  # Z for UTC\n",
    "                \"_last_updated_at\": datetime.datetime.fromisoformat(j[\"update_date\"]).isoformat() + \"Z\",  # Z for UTC\n",
    "                \"_document_id\": j[\"id\"],\n",
    "                \"_document_title\": j[\"title\"],\n",
    "                \"_source_uri\": j[\"urls\"][0],\n",
    "                \"keywords\": j[\"keywords\"]\n",
    "            },\n",
    "            \"DocumentId\": j[\"id\"],\n",
    "            \"Title\": j[\"title\"],\n",
    "            \"ContentType\": \"PLAIN_TEXT\"\n",
    "        }\n",
    "        metadata_file = output_dir / (file_name + \".metadata.json\")\n",
    "        with open(metadata_file, \"wt\") as fout:\n",
    "            json.dump(metadata_dict, fout)"
   ]
  },
  {
   "cell_type": "markdown",
   "id": "interstate-lying",
   "metadata": {},
   "source": [
    "Followed by:\n",
    "\n",
    "```bash\n",
    "aws s3 sync --sse AES256 20210418_load_s3_out/documents s3://${KENDRA_SOURCE_S3_BUCKET}/documents\n",
    "```"
   ]
  }
 ],
 "metadata": {
  "kernelspec": {
   "display_name": "Python 3",
   "language": "python",
   "name": "python3"
  },
  "language_info": {
   "codemirror_mode": {
    "name": "ipython",
    "version": 3
   },
   "file_extension": ".py",
   "mimetype": "text/x-python",
   "name": "python",
   "nbconvert_exporter": "python",
   "pygments_lexer": "ipython3",
   "version": "3.8.2"
  }
 },
 "nbformat": 4,
 "nbformat_minor": 5
}
