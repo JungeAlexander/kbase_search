{
 "cells": [
  {
   "cell_type": "code",
   "execution_count": null,
   "id": "interior-north",
   "metadata": {},
   "outputs": [],
   "source": [
    "from pathlib import Path\n",
    "import os\n",
    "import urllib.parse\n",
    "\n",
    "from dotenv import load_dotenv\n",
    "import requests"
   ]
  },
  {
   "cell_type": "code",
   "execution_count": null,
   "id": "governing-grace",
   "metadata": {},
   "outputs": [],
   "source": [
    "load_dotenv(\"../../aws.env\")"
   ]
  },
  {
   "cell_type": "code",
   "execution_count": null,
   "id": "consolidated-north",
   "metadata": {
    "pycharm": {
     "name": "#%%\n"
    }
   },
   "outputs": [],
   "source": [
    "api_url = urllib.parse.urljoin(os.environ[\"DBAPI_URL\"],\n",
    "                               os.environ[\"DBAPI_STAGE\"])"
   ]
  },
  {
   "cell_type": "code",
   "execution_count": null,
   "id": "parental-finder",
   "metadata": {},
   "outputs": [],
   "source": [
    "output_dir = Path(\"20210418_load_s3_out\")\n",
    "os.makedirs(output_dir, exist_ok=True)"
   ]
  },
  {
   "cell_type": "code",
   "execution_count": null,
   "id": "mathematical-bottom",
   "metadata": {
    "pycharm": {
     "name": "#%%\n"
    }
   },
   "outputs": [],
   "source": [
    "# request token\n",
    "login_data_dict = {\n",
    "  \"username\": os.environ[\"FIRST_USER\"],\n",
    "  \"password\": os.environ[\"FIRST_USER_PASSWORD\"]\n",
    "}\n",
    "r = requests.post(f\"{api_url}/token\", data=login_data_dict)\n",
    "a_token = r.json()[\"access_token\"]\n",
    "token_headers = {\"Authorization\": f\"Bearer {a_token}\"}"
   ]
  },
  {
   "cell_type": "code",
   "execution_count": null,
   "id": "biblical-graph",
   "metadata": {
    "pycharm": {
     "name": "#%%\n"
    }
   },
   "outputs": [],
   "source": [
    "# request episodes\n",
    "id_prefixes = [\"PythonBytes\", \"TalkPythonToMe\"]\n",
    "no_ranges = [range(217, 228), range(295, 306)]\n",
    "for id_prefix, no_range in zip(id_prefixes, no_ranges):\n",
    "    for episode_no in no_range:\n",
    "        episode_id = f\"{id_prefix}:{episode_no}\"\n",
    "        episode_url = f\"{api_url}/documents/{episode_id}\"\n",
    "        r = requests.get(episode_url, headers=token_headers)\n",
    "        if r.status_code != 200:\n",
    "            continue\n",
    "        j = r.json()\n",
    "        out_file = output_dir / (episode_id.replace(\":\", \"_\") + \".txt\")\n",
    "        with open(out_file, \"wt\") as fout:\n",
    "            fout.write(j[\"parsed_text\"])"
   ]
  }
 ],
 "metadata": {
  "kernelspec": {
   "display_name": "Python 3",
   "language": "python",
   "name": "python3"
  },
  "language_info": {
   "codemirror_mode": {
    "name": "ipython",
    "version": 3
   },
   "file_extension": ".py",
   "mimetype": "text/x-python",
   "name": "python",
   "nbconvert_exporter": "python",
   "pygments_lexer": "ipython3",
   "version": "3.8.2"
  }
 },
 "nbformat": 4,
 "nbformat_minor": 5
}
