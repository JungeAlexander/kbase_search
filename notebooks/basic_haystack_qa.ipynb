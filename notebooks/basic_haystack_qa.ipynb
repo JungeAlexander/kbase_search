{
 "cells": [
  {
   "cell_type": "markdown",
   "metadata": {},
   "source": [
    "Adapted from: https://github.com/deepset-ai/haystack/blob/master/tutorials/Tutorial3_Basic_QA_Pipeline_without_Elasticsearch.ipynb"
   ]
  },
  {
   "cell_type": "code",
   "execution_count": null,
   "metadata": {
    "pycharm": {
     "is_executing": false
    }
   },
   "outputs": [],
   "source": [
    "import os\n",
    "import urllib.parse\n",
    "\n",
    "from dotenv import load_dotenv\n",
    "from haystack import Finder\n",
    "from haystack.preprocessor.cleaning import clean_wiki_text\n",
    "from haystack.preprocessor.utils import convert_files_to_dicts, fetch_archive_from_http\n",
    "from haystack.reader.farm import FARMReader\n",
    "from haystack.reader.transformers import TransformersReader\n",
    "from haystack.utils import print_answers\n",
    "import requests"
   ]
  },
  {
   "cell_type": "code",
   "execution_count": 2,
   "metadata": {},
   "outputs": [],
   "source": [
    "use_gpu = False"
   ]
  },
  {
   "cell_type": "markdown",
   "metadata": {},
   "source": [
    "## Document Store\n"
   ]
  },
  {
   "cell_type": "code",
   "execution_count": 3,
   "metadata": {},
   "outputs": [],
   "source": [
    "# In-Memory Document Store\n",
    "from haystack.document_store.memory import InMemoryDocumentStore\n",
    "document_store = InMemoryDocumentStore()"
   ]
  },
  {
   "cell_type": "code",
   "execution_count": 4,
   "metadata": {},
   "outputs": [],
   "source": [
    "# SQLite Document Store\n",
    "# from haystack.document_store.sql import SQLDocumentStore\n",
    "# document_store = SQLDocumentStore(url=\"sqlite:///qa.db\")"
   ]
  },
  {
   "cell_type": "code",
   "execution_count": 5,
   "metadata": {},
   "outputs": [],
   "source": [
    "doc_dir = \"data/article_txt_kbase\"\n",
    "os.makedirs(doc_dir, exist_ok=True)"
   ]
  },
  {
   "cell_type": "code",
   "execution_count": 6,
   "metadata": {},
   "outputs": [],
   "source": [
    "load_dotenv(\"../aws.env\")\n",
    "api_url = urllib.parse.urljoin(os.environ[\"DBAPI_URL\"], os.environ[\"DBAPI_STAGE\"])\n",
    "login_data = {\n",
    "    \"username\": os.environ[\"FIRST_USER\"],\n",
    "    \"password\": os.environ[\"FIRST_USER_PASSWORD\"],\n",
    "}\n",
    "r = requests.post(f\"{api_url}/token\", data=login_data)\n",
    "tokens = r.json()\n",
    "a_token = tokens[\"access_token\"]\n",
    "token_headers = {\"Authorization\": f\"Bearer {a_token}\"}"
   ]
  },
  {
   "cell_type": "code",
   "execution_count": 7,
   "metadata": {},
   "outputs": [],
   "source": [
    "document_response = requests.get(f\"{api_url}/documents/?skip=0&limit=10\", headers=token_headers).json()"
   ]
  },
  {
   "cell_type": "code",
   "execution_count": 8,
   "metadata": {},
   "outputs": [],
   "source": [
    "for d in document_response:\n",
    "    file_name = os.path.join(doc_dir, d['id'] + '.txt')\n",
    "    with open(file_name, 'wt') as fout:\n",
    "        fout.write(d['title'] + '\\n' + d['parsed_text'])"
   ]
  },
  {
   "cell_type": "markdown",
   "metadata": {
    "pycharm": {
     "name": "#%% md\n"
    }
   },
   "source": [
    "## Preprocessing of documents\n",
    "\n",
    "Haystack provides a customizable pipeline for:\n",
    " - converting files into texts\n",
    " - cleaning texts\n",
    " - splitting texts\n",
    " - writing them to a Document Store"
   ]
  },
  {
   "cell_type": "code",
   "execution_count": null,
   "metadata": {
    "pycharm": {
     "name": "#%%\n"
    }
   },
   "outputs": [],
   "source": [
    "# # Let's first get some documents that we want to query\n",
    "# # Here: 517 Wikipedia articles for Game of Thrones\n",
    "# doc_dir = \"data/article_txt\n",
    "# _got\"\n",
    "# s3_url = \"https://s3.eu-central-1.amazonaws.com/deepset.ai-farm-qa/datasets/documents/wiki_gameofthrones_txt.zip\"\n",
    "# fetch_archive_from_http(url=s3_url, output_dir=doc_dir)\n",
    "\n",
    "# convert files to dicts containing documents that can be indexed to our datastore\n",
    "# You can optionally supply a cleaning function that is applied to each doc (e.g. to remove footers)\n",
    "# It must take a str as input, and return a str.\n",
    "dicts = convert_files_to_dicts(dir_path=doc_dir, clean_func=clean_wiki_text, split_paragraphs=True)\n",
    "\n",
    "# We now have a list of dictionaries that we can write to our document store.\n",
    "# If your texts come from a different source (e.g. a DB), you can of course skip convert_files_to_dicts() and create the dictionaries yourself.\n",
    "# The default format here is: {\"name\": \"<some-document-name>, \"text\": \"<the-actual-text>\"}\n",
    "\n",
    "# Let's have a look at the first 3 entries:\n",
    "print(dicts[:3])\n",
    "# Now, let's write the docs to our DB.\n",
    "document_store.write_documents(dicts)"
   ]
  },
  {
   "cell_type": "markdown",
   "metadata": {},
   "source": [
    "## Initalize Retriever, Reader,  & Finder\n",
    "\n",
    "### Retriever\n",
    "\n",
    "Retrievers help narrowing down the scope for the Reader to smaller units of text where a given question could be answered. \n",
    "\n",
    "With InMemoryDocumentStore or SQLDocumentStore, you can use the TfidfRetriever. For more retrievers, please refer to the tutorial-1."
   ]
  },
  {
   "cell_type": "code",
   "execution_count": 10,
   "metadata": {
    "pycharm": {
     "is_executing": false,
     "name": "#%%\n"
    }
   },
   "outputs": [
    {
     "name": "stderr",
     "output_type": "stream",
     "text": [
      "02/26/2021 17:31:31 - INFO - haystack.retriever.sparse -   Found 10 candidate paragraphs from 10 docs in DB\n"
     ]
    }
   ],
   "source": [
    "# An in-memory TfidfRetriever based on Pandas dataframes\n",
    "\n",
    "from haystack.retriever.sparse import TfidfRetriever\n",
    "retriever = TfidfRetriever(document_store=document_store)"
   ]
  },
  {
   "cell_type": "markdown",
   "metadata": {},
   "source": [
    "### Reader\n",
    "\n",
    "A Reader scans the texts returned by retrievers in detail and extracts the k best answers. They are based\n",
    "on powerful, but slower deep learning models.\n",
    "\n",
    "Haystack currently supports Readers based on the frameworks FARM and Transformers.\n",
    "With both you can either load a local model or one from Hugging Face's model hub (https://huggingface.co/models).\n",
    "\n",
    "**Here:** a medium sized RoBERTa QA model using a Reader based on FARM (https://huggingface.co/deepset/roberta-base-squad2)\n",
    "\n",
    "**Alternatives (Reader):** TransformersReader (leveraging the `pipeline` of the Transformers package)\n",
    "\n",
    "**Alternatives (Models):** e.g. \"distilbert-base-uncased-distilled-squad\" (fast) or \"deepset/bert-large-uncased-whole-word-masking-squad2\" (good accuracy)\n",
    "\n",
    "**Hint:** You can adjust the model to return \"no answer possible\" with the no_ans_boost. Higher values mean the model prefers \"no answer possible\"\n",
    "\n",
    "#### FARMReader"
   ]
  },
  {
   "cell_type": "code",
   "execution_count": 11,
   "metadata": {
    "pycharm": {
     "is_executing": false
    }
   },
   "outputs": [
    {
     "name": "stderr",
     "output_type": "stream",
     "text": [
      "02/26/2021 17:31:33 - INFO - farm.utils -   Using device: CPU \n",
      "02/26/2021 17:31:33 - INFO - farm.utils -   Number of GPUs: 0\n",
      "02/26/2021 17:31:33 - INFO - farm.utils -   Distributed Training: False\n",
      "02/26/2021 17:31:33 - INFO - farm.utils -   Automatic Mixed Precision: None\n",
      "Some weights of RobertaModel were not initialized from the model checkpoint at deepset/roberta-base-squad2 and are newly initialized: ['roberta.pooler.dense.weight', 'roberta.pooler.dense.bias']\n",
      "You should probably TRAIN this model on a down-stream task to be able to use it for predictions and inference.\n",
      "02/26/2021 17:31:42 - WARNING - farm.utils -   ML Logging is turned off. No parameters, metrics or artifacts will be logged to MLFlow.\n",
      "02/26/2021 17:31:42 - INFO - farm.utils -   Using device: CPU \n",
      "02/26/2021 17:31:42 - INFO - farm.utils -   Number of GPUs: 0\n",
      "02/26/2021 17:31:42 - INFO - farm.utils -   Distributed Training: False\n",
      "02/26/2021 17:31:42 - INFO - farm.utils -   Automatic Mixed Precision: None\n",
      "02/26/2021 17:31:42 - INFO - farm.infer -   Got ya 7 parallel workers to do inference ...\n",
      "02/26/2021 17:31:42 - INFO - farm.infer -    0    0    0    0    0    0    0 \n",
      "02/26/2021 17:31:42 - INFO - farm.infer -   /w\\  /w\\  /w\\  /w\\  /w\\  /w\\  /w\\\n",
      "02/26/2021 17:31:42 - INFO - farm.infer -   /'\\  / \\  /'\\  /'\\  / \\  / \\  /'\\\n",
      "02/26/2021 17:31:42 - INFO - farm.infer -               \n"
     ]
    }
   ],
   "source": [
    "# Load a  local model or any of the QA models on\n",
    "# Hugging Face's model hub (https://huggingface.co/models)\n",
    "\n",
    "reader = FARMReader(model_name_or_path=\"deepset/roberta-base-squad2\", use_gpu=use_gpu)"
   ]
  },
  {
   "cell_type": "markdown",
   "metadata": {},
   "source": [
    "#### TransformersReader"
   ]
  },
  {
   "cell_type": "code",
   "execution_count": 12,
   "metadata": {},
   "outputs": [],
   "source": [
    "# Alternative:\n",
    "# reader = TransformersReader(model_name_or_path=\"distilbert-base-uncased-distilled-squad\", tokenizer=\"distilbert-base-uncased\", use_gpu=-1)"
   ]
  },
  {
   "cell_type": "markdown",
   "metadata": {},
   "source": [
    "### Pipeline\n",
    "\n",
    "With a Haystack `Pipeline` you can stick together your building blocks to a search pipeline.\n",
    "Under the hood, `Pipelines` are Directed Acyclic Graphs (DAGs) that you can easily customize for your own use cases.\n",
    "To speed things up, Haystack also comes with a few predefined Pipelines. One of them is the `ExtractiveQAPipeline` that combines a retriever and a reader to answer our questions.\n",
    "You can learn more about `Pipelines` in the [docs](https://haystack.deepset.ai/docs/latest/pipelinesmd)."
   ]
  },
  {
   "cell_type": "code",
   "execution_count": 13,
   "metadata": {
    "pycharm": {
     "is_executing": false
    }
   },
   "outputs": [],
   "source": [
    "from haystack.pipeline import ExtractiveQAPipeline\n",
    "pipe = ExtractiveQAPipeline(reader, retriever)"
   ]
  },
  {
   "cell_type": "markdown",
   "metadata": {},
   "source": [
    "## Voilà! Ask a question!"
   ]
  },
  {
   "cell_type": "code",
   "execution_count": 18,
   "metadata": {
    "pycharm": {
     "is_executing": false
    }
   },
   "outputs": [
    {
     "name": "stdout",
     "output_type": "stream",
     "text": [
      "What is the GIL?\n",
      "-------------------\n"
     ]
    },
    {
     "name": "stderr",
     "output_type": "stream",
     "text": [
      "Inferencing Samples: 100%|██████████| 3/3 [01:02<00:00, 20.96s/ Batches]\n",
      "Inferencing Samples: 100%|██████████| 2/2 [00:52<00:00, 26.14s/ Batches]\n",
      "Inferencing Samples: 100%|██████████| 2/2 [00:43<00:00, 21.81s/ Batches]\n"
     ]
    },
    {
     "name": "stdout",
     "output_type": "stream",
     "text": [
      "[   {   'answer': 'Global Interpreter Lock',\n",
      "        'context': 'this problem up by doing something like this:\\n'\n",
      "                   'However, the GIL (Global Interpreter Lock) prevents us '\n",
      "                   'from achieving the performance improvement we are'},\n",
      "    {   'answer': 'global interpreter lock',\n",
      "        'context': 'ms of the Gil so like, the Gil is known, otherwise known '\n",
      "                   'as the global interpreter lock in Python, prevents us from '\n",
      "                   'really like running a multi thread'},\n",
      "    {   'answer': 'you can only run one thread at a time for like, one opcode '\n",
      "                  'at a time',\n",
      "        'context': 'me up with the Gil, which basically says you can only run '\n",
      "                   'one thread at a time for like, one opcode at a time as as '\n",
      "                   'attempts have been made to remove '},\n",
      "    {   'answer': 'change up your keymap',\n",
      "        'context': 'keyboards is, in addition to getting ergonomic benefits, '\n",
      "                   'you can change up your keymap. Normal keyboards have maybe '\n",
      "                   '100 keys on them or so. But they r'},\n",
      "    {   'answer': 'GitHub',\n",
      "        'context': 'ng to put that link in the show notes. But in the the ipi '\n",
      "                   \"thread or the GitHub thread, there's a there's a link to \"\n",
      "                   'if you want to comment on that. But'}]\n",
      "-------------------\n",
      "-------------------\n",
      "What is Bandit?\n",
      "-------------------\n"
     ]
    },
    {
     "name": "stderr",
     "output_type": "stream",
     "text": [
      "Inferencing Samples: 100%|██████████| 3/3 [00:58<00:00, 19.56s/ Batches]\n",
      "Inferencing Samples: 100%|██████████| 2/2 [00:43<00:00, 21.82s/ Batches]\n",
      "Inferencing Samples: 100%|██████████| 2/2 [00:44<00:00, 22.08s/ Batches]\n"
     ]
    },
    {
     "name": "stdout",
     "output_type": "stream",
     "text": [
      "[   {   'answer': 'a static analysis security tool',\n",
      "        'context': '      beyond the location indicated by --> and ^.\\n'\n",
      "                   'Bandit is a static analysis security tool.\\n'\n",
      "                   'It’s like a linter but for security issues.\\n'\n",
      "                   'I prefer to r'},\n",
      "    {   'answer': 'a static',\n",
      "        'context': 'the file\\n'\n",
      "                   '        beyond the location indicated by --> and ^.\\n'\n",
      "                   'Bandit is a static analysis security tool.\\n'\n",
      "                   'It’s like a linter but for security issues.\\n'\n",
      "                   'I '},\n",
      "    {   'answer': 'a linter',\n",
      "        'context': \"t, we'll just do that. Um, but yeah, so bandit is \"\n",
      "                   'basically like, like a linter. But it looks for security '\n",
      "                   'issues. So you can just like pip install it'},\n",
      "    {   'answer': 'PI test developer',\n",
      "        'context': 'een on guest on talk Python to me. He maintains pre '\n",
      "                   \"commit, he's a PI test developer in Anthony totally, \"\n",
      "                   \"totally from gap. And, and I've been absolute\"},\n",
      "    {   'answer': 'all close method',\n",
      "        'context': ' rebuilt list of those. So one of the things he talks '\n",
      "                   \"about is the all close method. So if you've got floating \"\n",
      "                   \"point numbers, one of the things that's\"}]\n",
      "-------------------\n",
      "-------------------\n",
      "Which Pep has been accepted?\n",
      "-------------------\n"
     ]
    },
    {
     "name": "stderr",
     "output_type": "stream",
     "text": [
      "Inferencing Samples: 100%|██████████| 3/3 [00:59<00:00, 19.72s/ Batches]\n",
      "Inferencing Samples: 100%|██████████| 2/2 [00:45<00:00, 22.71s/ Batches]\n",
      "Inferencing Samples: 100%|██████████| 2/2 [00:54<00:00, 27.41s/ Batches]\n"
     ]
    },
    {
     "name": "stdout",
     "output_type": "stream",
     "text": [
      "[   {   'answer': 'Pep 634 structural pattern matching',\n",
      "        'context': 'h. All right. Awesome. So I got a couple of quick things. '\n",
      "                   'Pep 634 structural pattern matching in Python has been '\n",
      "                   \"accepted for Python. 310. That's like\"},\n",
      "    {   'answer': 'PEP 634',\n",
      "        'context': ' that trainings can be virtual, a couple half days is '\n",
      "                   'super easy to do.\\n'\n",
      "                   'PEP 634 -- Structural Pattern Matching: Specification '\n",
      "                   'accepted in 3.10\\n'\n",
      "                   'Sent in'},\n",
      "    {   'answer': 'my hands',\n",
      "        'context': 's both awesome and terrifying. Yes, exactly. Yeah.\\n'\n",
      "                   '0:00 Yeah. Yeah. So my hands like this got accepted. It '\n",
      "                   'seemed to be sort of counter to the simplic'},\n",
      "    {   'answer': 'Pancakes',\n",
      "        'context': 'd\": 1, \"age\": 4, \"name\": \"Cleo\"},\\n'\n",
      "                   '        {\"id\": 2, \"age\": 2, \"name\": \"Pancakes\"}\\n'\n",
      "                   'Anthony #6: Online conferences are not working for me. But '\n",
      "                   'this was '},\n",
      "    {   'answer': 'sequels',\n",
      "        'context': 'ught that was the point is that you can think in objects '\n",
      "                   'that have been sequels. So yeah, why do I gotta learn SQL '\n",
      "                   'in order to understand the tool.\\n'\n",
      "                   '00'}]\n",
      "-------------------\n",
      "-------------------\n",
      "Who is Bryan?\n",
      "-------------------\n"
     ]
    },
    {
     "name": "stderr",
     "output_type": "stream",
     "text": [
      "Inferencing Samples: 100%|██████████| 2/2 [00:56<00:00, 28.14s/ Batches]\n",
      "Inferencing Samples: 100%|██████████| 2/2 [00:48<00:00, 24.03s/ Batches]\n",
      "Inferencing Samples: 100%|██████████| 2/2 [00:45<00:00, 22.86s/ Batches]"
     ]
    },
    {
     "name": "stdout",
     "output_type": "stream",
     "text": [
      "[   {   'answer': 'Brian knockin',\n",
      "        'context': 'buds. This is Episode 217. recorded. What is it January 19 '\n",
      "                   \"2021. I'm Brian knockin. I'm Michael Kennedy. And I'm \"\n",
      "                   'Omar. Welcome. Thanks for joining us.'},\n",
      "    {   'answer': 'Byrne Hobart',\n",
      "        'context': 'respected genius and end up being a janitor who gets into '\n",
      "                   'fights.\" - Byrne Hobart\\n'\n",
      "                   '00:00:00 Hello, and welcome to Python bytes where we '\n",
      "                   'deliver Python '},\n",
      "    {   'answer': 'Brian',\n",
      "        'context': '. This was really fun. Yeah, great for vitamins brought. '\n",
      "                   'Enjoy them. And Brian, thanks as always, man. Thank you. '\n",
      "                   \"It's been fun. Yep. See you. Bye. Th\"},\n",
      "    {   'answer': 'Magnus Carlsen',\n",
      "        'context': 'ing so this will solve that for sure. And then what free '\n",
      "                   'Brian from Magnus Carlsen. Yeah, does was it does PIP 621, '\n",
      "                   'the tama spec, whatever the pep is'},\n",
      "    {   'answer': 'my brother',\n",
      "        'context': ' think?\\n'\n",
      "                   \"00:17:52 Yeah, this looks amazing. I'm also I'm in touch \"\n",
      "                   \"with my brother on the side. And he's also watching our \"\n",
      "                   \"present moment. And he's also\"}]\n",
      "-------------------\n",
      "-------------------\n"
     ]
    },
    {
     "name": "stderr",
     "output_type": "stream",
     "text": [
      "\n"
     ]
    }
   ],
   "source": [
    "# You can configure how many candidates the reader and retriever shall return\n",
    "# The higher top_k_retriever, the better (but also the slower) your answers.\n",
    "questions = [\"What is the GIL?\", \"What is Bandit?\", \"Which Pep has been accepted?\", \"Who is Bryan?\"]\n",
    "for q in questions:\n",
    "    print(q)\n",
    "    print(\"-------------------\")\n",
    "    prediction = pipe.run(query=q, top_k_retriever=3, top_k_reader=5)\n",
    "    print_answers(prediction, details=\"minimal\")\n",
    "    print(\"-------------------\")\n",
    "    print(\"-------------------\")"
   ]
  }
 ],
 "metadata": {
  "kernelspec": {
   "display_name": "Python 3",
   "language": "python",
   "name": "python3"
  },
  "language_info": {
   "codemirror_mode": {
    "name": "ipython",
    "version": 3
   },
   "file_extension": ".py",
   "mimetype": "text/x-python",
   "name": "python",
   "nbconvert_exporter": "python",
   "pygments_lexer": "ipython3",
   "version": "3.8.2"
  }
 },
 "nbformat": 4,
 "nbformat_minor": 2
}
